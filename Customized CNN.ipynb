{
 "cells": [
  {
   "cell_type": "markdown",
   "metadata": {},
   "source": [
    "# Customize Your Work \n",
    "### Build Your Own Classifier that  \n",
    "Use this Method `keras.preprocessing.image.ImageDataGenerator` it may help you \n",
    "> Get the 2 class names from instructor and Rush Starting !"
   ]
  },
  {
   "cell_type": "code",
   "execution_count": 1,
   "metadata": {},
   "outputs": [],
   "source": [
    "import tensorflow as tf\n",
    "\n",
    "from tensorflow.keras import datasets, layers, models\n",
    "import matplotlib.pyplot as plt\n",
    "import cv2"
   ]
  },
  {
   "cell_type": "code",
   "execution_count": 2,
   "metadata": {},
   "outputs": [],
   "source": [
    "from tensorflow.keras.preprocessing.image import ImageDataGenerator\n",
    "\n",
    "datagen = ImageDataGenerator(\n",
    "        rotation_range=20,\n",
    "        width_shift_range=0.2,\n",
    "        height_shift_range=0.2,\n",
    "        rescale=1./255,\n",
    "        horizontal_flip=True,\n",
    "        fill_mode='nearest')"
   ]
  },
  {
   "cell_type": "code",
   "execution_count": 3,
   "metadata": {},
   "outputs": [
    {
     "name": "stdout",
     "output_type": "stream",
     "text": [
      "Found 1240 images belonging to 2 classes.\n"
     ]
    }
   ],
   "source": [
    "train_datagen = ImageDataGenerator(\n",
    "        rescale=1./255,\n",
    "        horizontal_flip=True)\n",
    "train_generator = train_datagen.flow_from_directory(\n",
    "        'train',  # this is the target directory\n",
    "        target_size=(32,32),  \n",
    "        batch_size=16,\n",
    "        class_mode='binary')"
   ]
  },
  {
   "cell_type": "code",
   "execution_count": 4,
   "metadata": {},
   "outputs": [
    {
     "name": "stdout",
     "output_type": "stream",
     "text": [
      "Found 434 images belonging to 2 classes.\n"
     ]
    }
   ],
   "source": [
    "test_datagen = ImageDataGenerator(\n",
    "        rescale=1./255,\n",
    "        horizontal_flip=True)\n",
    "test_generator = test_datagen.flow_from_directory(\n",
    "        'test',  # this is the target directory\n",
    "        target_size=(32, 32),  \n",
    "        batch_size=16,\n",
    "        class_mode='binary')"
   ]
  },
  {
   "cell_type": "code",
   "execution_count": 5,
   "metadata": {},
   "outputs": [],
   "source": [
    "model = models.Sequential()\n",
    "model.add(layers.Conv2D(32, (3, 3), activation='relu', input_shape=(32,32, 3)))\n",
    "model.add(layers.BatchNormalization())\n",
    "model.add(layers.MaxPooling2D(pool_size=(2, 2)))\n",
    "model.add(layers.Dropout(0.25))\n",
    "\n",
    "model.add(layers.Conv2D(64, (3, 3), activation='relu'))\n",
    "model.add(layers.BatchNormalization())\n",
    "model.add(layers.MaxPooling2D(pool_size=(2, 2)))\n",
    "model.add(layers.Dropout(0.25))\n",
    "\n",
    "model.add(layers.Conv2D(128, (3, 3), activation='relu'))\n",
    "model.add(layers.BatchNormalization())\n",
    "model.add(layers.MaxPooling2D(pool_size=(2, 2)))\n",
    "model.add(layers.Dropout(0.25))\n",
    "\n",
    "model.add(layers.Flatten())\n",
    "model.add(layers.Dense(512, activation='relu'))\n",
    "model.add(layers.BatchNormalization())\n",
    "model.add(layers.Dropout(0.5))\n",
    "model.add(layers.Dense(2, activation='softmax')) \n",
    "\n",
    "model.compile(loss='categorical_crossentropy', optimizer='rmsprop', metrics=['accuracy'])\n"
   ]
  },
  {
   "cell_type": "code",
   "execution_count": 6,
   "metadata": {},
   "outputs": [
    {
     "name": "stdout",
     "output_type": "stream",
     "text": [
      "Model: \"sequential\"\n",
      "_________________________________________________________________\n",
      "Layer (type)                 Output Shape              Param #   \n",
      "=================================================================\n",
      "conv2d (Conv2D)              (None, 30, 30, 32)        896       \n",
      "_________________________________________________________________\n",
      "batch_normalization (BatchNo (None, 30, 30, 32)        128       \n",
      "_________________________________________________________________\n",
      "max_pooling2d (MaxPooling2D) (None, 15, 15, 32)        0         \n",
      "_________________________________________________________________\n",
      "dropout (Dropout)            (None, 15, 15, 32)        0         \n",
      "_________________________________________________________________\n",
      "conv2d_1 (Conv2D)            (None, 13, 13, 64)        18496     \n",
      "_________________________________________________________________\n",
      "batch_normalization_1 (Batch (None, 13, 13, 64)        256       \n",
      "_________________________________________________________________\n",
      "max_pooling2d_1 (MaxPooling2 (None, 6, 6, 64)          0         \n",
      "_________________________________________________________________\n",
      "dropout_1 (Dropout)          (None, 6, 6, 64)          0         \n",
      "_________________________________________________________________\n",
      "conv2d_2 (Conv2D)            (None, 4, 4, 128)         73856     \n",
      "_________________________________________________________________\n",
      "batch_normalization_2 (Batch (None, 4, 4, 128)         512       \n",
      "_________________________________________________________________\n",
      "max_pooling2d_2 (MaxPooling2 (None, 2, 2, 128)         0         \n",
      "_________________________________________________________________\n",
      "dropout_2 (Dropout)          (None, 2, 2, 128)         0         \n",
      "_________________________________________________________________\n",
      "flatten (Flatten)            (None, 512)               0         \n",
      "_________________________________________________________________\n",
      "dense (Dense)                (None, 512)               262656    \n",
      "_________________________________________________________________\n",
      "batch_normalization_3 (Batch (None, 512)               2048      \n",
      "_________________________________________________________________\n",
      "dropout_3 (Dropout)          (None, 512)               0         \n",
      "_________________________________________________________________\n",
      "dense_1 (Dense)              (None, 2)                 1026      \n",
      "=================================================================\n",
      "Total params: 359,874\n",
      "Trainable params: 358,402\n",
      "Non-trainable params: 1,472\n",
      "_________________________________________________________________\n"
     ]
    }
   ],
   "source": [
    "model.summary()"
   ]
  },
  {
   "cell_type": "code",
   "execution_count": 7,
   "metadata": {},
   "outputs": [
    {
     "name": "stdout",
     "output_type": "stream",
     "text": [
      "WARNING:tensorflow:sample_weight modes were coerced from\n",
      "  ...\n",
      "    to  \n",
      "  ['...']\n",
      "WARNING:tensorflow:sample_weight modes were coerced from\n",
      "  ...\n",
      "    to  \n",
      "  ['...']\n",
      "Train for 78 steps, validate for 28 steps\n",
      "Epoch 1/70\n",
      "78/78 [==============================] - 16s 199ms/step - loss: 0.5308 - accuracy: 0.7653 - val_loss: 0.7847 - val_accuracy: 0.5300\n",
      "Epoch 2/70\n",
      "78/78 [==============================] - 12s 157ms/step - loss: 0.4670 - accuracy: 0.8427 - val_loss: 0.7932 - val_accuracy: 0.5300\n",
      "Epoch 3/70\n",
      "78/78 [==============================] - 11s 144ms/step - loss: 0.4531 - accuracy: 0.8548 - val_loss: 0.5889 - val_accuracy: 0.7028\n",
      "Epoch 4/70\n",
      "78/78 [==============================] - 11s 141ms/step - loss: 0.4508 - accuracy: 0.8548 - val_loss: 0.7564 - val_accuracy: 0.5461\n",
      "Epoch 5/70\n",
      "78/78 [==============================] - 13s 170ms/step - loss: 0.4529 - accuracy: 0.8540 - val_loss: 0.5021 - val_accuracy: 0.7903\n",
      "Epoch 6/70\n",
      "78/78 [==============================] - 13s 172ms/step - loss: 0.4289 - accuracy: 0.8806 - val_loss: 0.6322 - val_accuracy: 0.6682\n",
      "Epoch 7/70\n",
      "78/78 [==============================] - 13s 169ms/step - loss: 0.4269 - accuracy: 0.8806 - val_loss: 0.4352 - val_accuracy: 0.8733\n",
      "Epoch 8/70\n",
      "78/78 [==============================] - 12s 157ms/step - loss: 0.4198 - accuracy: 0.8871 - val_loss: 0.4417 - val_accuracy: 0.8664\n",
      "Epoch 9/70\n",
      "78/78 [==============================] - 14s 177ms/step - loss: 0.4365 - accuracy: 0.8694 - val_loss: 0.5655 - val_accuracy: 0.7488\n",
      "Epoch 10/70\n",
      "78/78 [==============================] - 13s 169ms/step - loss: 0.4188 - accuracy: 0.8903 - val_loss: 0.4379 - val_accuracy: 0.8687\n",
      "Epoch 11/70\n",
      "78/78 [==============================] - 13s 168ms/step - loss: 0.4348 - accuracy: 0.8726 - val_loss: 0.4634 - val_accuracy: 0.8479\n",
      "Epoch 12/70\n",
      "78/78 [==============================] - 13s 165ms/step - loss: 0.4085 - accuracy: 0.9008 - val_loss: 0.4287 - val_accuracy: 0.8802\n",
      "Epoch 13/70\n",
      "78/78 [==============================] - 14s 179ms/step - loss: 0.4018 - accuracy: 0.9073 - val_loss: 0.4249 - val_accuracy: 0.8779\n",
      "Epoch 14/70\n",
      "78/78 [==============================] - 12s 149ms/step - loss: 0.3986 - accuracy: 0.9137 - val_loss: 0.4945 - val_accuracy: 0.8088\n",
      "Epoch 15/70\n",
      "78/78 [==============================] - 12s 152ms/step - loss: 0.4018 - accuracy: 0.9073 - val_loss: 0.6229 - val_accuracy: 0.6935\n",
      "Epoch 16/70\n",
      "78/78 [==============================] - 13s 161ms/step - loss: 0.4070 - accuracy: 0.9016 - val_loss: 0.4400 - val_accuracy: 0.8618\n",
      "Epoch 17/70\n",
      "78/78 [==============================] - 14s 177ms/step - loss: 0.3932 - accuracy: 0.9177 - val_loss: 0.4128 - val_accuracy: 0.8940\n",
      "Epoch 18/70\n",
      "78/78 [==============================] - 11s 144ms/step - loss: 0.3950 - accuracy: 0.9145 - val_loss: 0.4753 - val_accuracy: 0.8272\n",
      "Epoch 19/70\n",
      "78/78 [==============================] - 12s 159ms/step - loss: 0.4060 - accuracy: 0.9008 - val_loss: 0.4844 - val_accuracy: 0.8157\n",
      "Epoch 20/70\n",
      "78/78 [==============================] - 13s 167ms/step - loss: 0.3933 - accuracy: 0.9169 - val_loss: 0.4322 - val_accuracy: 0.8756\n",
      "Epoch 21/70\n",
      "78/78 [==============================] - 14s 173ms/step - loss: 0.3933 - accuracy: 0.9145 - val_loss: 0.5692 - val_accuracy: 0.7327\n",
      "Epoch 22/70\n",
      "78/78 [==============================] - 14s 175ms/step - loss: 0.3905 - accuracy: 0.9169 - val_loss: 0.3817 - val_accuracy: 0.9240\n",
      "Epoch 23/70\n",
      "78/78 [==============================] - 13s 170ms/step - loss: 0.3910 - accuracy: 0.9210 - val_loss: 0.3999 - val_accuracy: 0.9101\n",
      "Epoch 24/70\n",
      "78/78 [==============================] - 16s 200ms/step - loss: 0.3903 - accuracy: 0.9210 - val_loss: 0.4035 - val_accuracy: 0.9032\n",
      "Epoch 25/70\n",
      "78/78 [==============================] - 13s 163ms/step - loss: 0.3929 - accuracy: 0.9194 - val_loss: 0.3927 - val_accuracy: 0.9101\n",
      "Epoch 26/70\n",
      "78/78 [==============================] - 11s 142ms/step - loss: 0.3915 - accuracy: 0.9210 - val_loss: 0.4180 - val_accuracy: 0.8940\n",
      "Epoch 27/70\n",
      "78/78 [==============================] - 12s 159ms/step - loss: 0.4021 - accuracy: 0.9073 - val_loss: 0.4983 - val_accuracy: 0.8180\n",
      "Epoch 28/70\n",
      "78/78 [==============================] - 15s 190ms/step - loss: 0.3875 - accuracy: 0.9242 - val_loss: 0.4648 - val_accuracy: 0.8525\n",
      "Epoch 29/70\n",
      "78/78 [==============================] - 14s 182ms/step - loss: 0.3888 - accuracy: 0.9226 - val_loss: 0.3954 - val_accuracy: 0.9171\n",
      "Epoch 30/70\n",
      "78/78 [==============================] - 11s 147ms/step - loss: 0.3796 - accuracy: 0.9323 - val_loss: 0.4121 - val_accuracy: 0.8940\n",
      "Epoch 31/70\n",
      "78/78 [==============================] - 12s 148ms/step - loss: 0.3790 - accuracy: 0.9282 - val_loss: 0.3982 - val_accuracy: 0.9147\n",
      "Epoch 32/70\n",
      "78/78 [==============================] - 11s 146ms/step - loss: 0.3873 - accuracy: 0.9242 - val_loss: 0.4133 - val_accuracy: 0.8963\n",
      "Epoch 33/70\n",
      "78/78 [==============================] - 11s 147ms/step - loss: 0.3961 - accuracy: 0.9113 - val_loss: 0.4030 - val_accuracy: 0.9055\n",
      "Epoch 34/70\n",
      "78/78 [==============================] - 11s 146ms/step - loss: 0.3880 - accuracy: 0.9226 - val_loss: 0.3986 - val_accuracy: 0.9101\n",
      "Epoch 35/70\n",
      "78/78 [==============================] - 11s 147ms/step - loss: 0.3758 - accuracy: 0.9355 - val_loss: 0.4609 - val_accuracy: 0.8410\n",
      "Epoch 36/70\n",
      "78/78 [==============================] - 11s 147ms/step - loss: 0.3875 - accuracy: 0.9242 - val_loss: 0.4290 - val_accuracy: 0.8825\n",
      "Epoch 37/70\n",
      "78/78 [==============================] - 11s 147ms/step - loss: 0.3800 - accuracy: 0.9306 - val_loss: 0.4084 - val_accuracy: 0.8963\n",
      "Epoch 38/70\n",
      "78/78 [==============================] - 12s 147ms/step - loss: 0.3858 - accuracy: 0.9258 - val_loss: 0.3980 - val_accuracy: 0.9171\n",
      "Epoch 39/70\n",
      "78/78 [==============================] - 12s 148ms/step - loss: 0.3828 - accuracy: 0.9315 - val_loss: 0.4393 - val_accuracy: 0.8618\n",
      "Epoch 40/70\n",
      "78/78 [==============================] - 11s 145ms/step - loss: 0.3803 - accuracy: 0.9282 - val_loss: 0.5810 - val_accuracy: 0.7350\n",
      "Epoch 41/70\n",
      "78/78 [==============================] - 12s 148ms/step - loss: 0.3805 - accuracy: 0.9306 - val_loss: 0.4460 - val_accuracy: 0.8594\n",
      "Epoch 42/70\n",
      "78/78 [==============================] - 11s 146ms/step - loss: 0.3810 - accuracy: 0.9306 - val_loss: 0.3998 - val_accuracy: 0.9055\n",
      "Epoch 43/70\n",
      "78/78 [==============================] - 11s 145ms/step - loss: 0.3764 - accuracy: 0.9355 - val_loss: 0.4029 - val_accuracy: 0.9055\n",
      "Epoch 44/70\n",
      "78/78 [==============================] - 11s 145ms/step - loss: 0.3783 - accuracy: 0.9306 - val_loss: 0.4248 - val_accuracy: 0.8779\n",
      "Epoch 45/70\n",
      "78/78 [==============================] - 11s 146ms/step - loss: 0.3825 - accuracy: 0.9274 - val_loss: 0.3992 - val_accuracy: 0.9101\n",
      "Epoch 46/70\n",
      "78/78 [==============================] - 12s 148ms/step - loss: 0.3736 - accuracy: 0.9387 - val_loss: 0.4583 - val_accuracy: 0.8525\n",
      "Epoch 47/70\n",
      "78/78 [==============================] - 11s 147ms/step - loss: 0.3761 - accuracy: 0.9347 - val_loss: 0.4082 - val_accuracy: 0.9009\n",
      "Epoch 48/70\n",
      "78/78 [==============================] - 11s 146ms/step - loss: 0.3771 - accuracy: 0.9339 - val_loss: 0.4555 - val_accuracy: 0.8594\n",
      "Epoch 49/70\n",
      "78/78 [==============================] - 11s 147ms/step - loss: 0.3752 - accuracy: 0.9339 - val_loss: 0.3997 - val_accuracy: 0.9124\n",
      "Epoch 50/70\n",
      "78/78 [==============================] - 11s 146ms/step - loss: 0.3692 - accuracy: 0.9419 - val_loss: 0.4267 - val_accuracy: 0.8871\n",
      "Epoch 51/70\n",
      "78/78 [==============================] - 12s 151ms/step - loss: 0.3776 - accuracy: 0.9347 - val_loss: 0.3972 - val_accuracy: 0.9101\n",
      "Epoch 52/70\n",
      "78/78 [==============================] - 12s 149ms/step - loss: 0.3798 - accuracy: 0.9323 - val_loss: 0.4054 - val_accuracy: 0.9055\n",
      "Epoch 53/70\n",
      "78/78 [==============================] - 11s 147ms/step - loss: 0.3759 - accuracy: 0.9363 - val_loss: 0.4904 - val_accuracy: 0.8111\n",
      "Epoch 54/70\n",
      "78/78 [==============================] - 11s 147ms/step - loss: 0.3761 - accuracy: 0.9355 - val_loss: 0.4082 - val_accuracy: 0.9009\n",
      "Epoch 55/70\n",
      "78/78 [==============================] - 11s 147ms/step - loss: 0.3844 - accuracy: 0.9250 - val_loss: 0.4057 - val_accuracy: 0.9032\n",
      "Epoch 56/70\n",
      "78/78 [==============================] - 11s 146ms/step - loss: 0.3852 - accuracy: 0.9242 - val_loss: 0.4230 - val_accuracy: 0.8848\n",
      "Epoch 57/70\n",
      "78/78 [==============================] - 11s 145ms/step - loss: 0.3779 - accuracy: 0.9363 - val_loss: 0.4002 - val_accuracy: 0.9101\n",
      "Epoch 58/70\n",
      "78/78 [==============================] - 11s 145ms/step - loss: 0.3701 - accuracy: 0.9411 - val_loss: 0.6107 - val_accuracy: 0.7051\n",
      "Epoch 59/70\n",
      "78/78 [==============================] - 11s 144ms/step - loss: 0.3857 - accuracy: 0.9274 - val_loss: 0.6705 - val_accuracy: 0.6406\n",
      "Epoch 60/70\n",
      "78/78 [==============================] - 12s 148ms/step - loss: 0.3926 - accuracy: 0.9202 - val_loss: 0.4965 - val_accuracy: 0.8203\n",
      "Epoch 61/70\n",
      "78/78 [==============================] - 12s 152ms/step - loss: 0.3700 - accuracy: 0.9427 - val_loss: 0.4027 - val_accuracy: 0.9078\n",
      "Epoch 62/70\n",
      "78/78 [==============================] - 12s 154ms/step - loss: 0.3634 - accuracy: 0.9508 - val_loss: 0.4249 - val_accuracy: 0.8825\n",
      "Epoch 63/70\n",
      "78/78 [==============================] - 12s 148ms/step - loss: 0.3547 - accuracy: 0.9597 - val_loss: 0.4185 - val_accuracy: 0.8940\n",
      "Epoch 64/70\n",
      "78/78 [==============================] - 12s 148ms/step - loss: 0.3663 - accuracy: 0.9452 - val_loss: 0.5511 - val_accuracy: 0.7465\n",
      "Epoch 65/70\n",
      "78/78 [==============================] - 11s 147ms/step - loss: 0.3699 - accuracy: 0.9427 - val_loss: 0.4347 - val_accuracy: 0.8756\n",
      "Epoch 66/70\n",
      "78/78 [==============================] - 11s 146ms/step - loss: 0.3580 - accuracy: 0.9565 - val_loss: 0.4026 - val_accuracy: 0.9032\n",
      "Epoch 67/70\n",
      "78/78 [==============================] - 11s 145ms/step - loss: 0.3615 - accuracy: 0.9500 - val_loss: 0.4247 - val_accuracy: 0.8848\n",
      "Epoch 68/70\n",
      "78/78 [==============================] - 11s 147ms/step - loss: 0.3731 - accuracy: 0.9379 - val_loss: 0.4288 - val_accuracy: 0.8802\n",
      "Epoch 69/70\n",
      "78/78 [==============================] - 12s 148ms/step - loss: 0.3694 - accuracy: 0.9435 - val_loss: 0.4091 - val_accuracy: 0.8986\n",
      "Epoch 70/70\n",
      "78/78 [==============================] - 11s 146ms/step - loss: 0.3625 - accuracy: 0.9492 - val_loss: 0.4205 - val_accuracy: 0.8894\n"
     ]
    }
   ],
   "source": [
    "model.compile(optimizer='adam',\n",
    "              loss=tf.keras.losses.SparseCategoricalCrossentropy(from_logits=True),\n",
    "              metrics=['accuracy'])\n",
    "\n",
    "history = model.fit(train_generator, epochs=70, \n",
    "                    validation_data=(test_generator))"
   ]
  },
  {
   "cell_type": "code",
   "execution_count": 8,
   "metadata": {
    "scrolled": true
   },
   "outputs": [
    {
     "name": "stdout",
     "output_type": "stream",
     "text": [
      "WARNING:tensorflow:sample_weight modes were coerced from\n",
      "  ...\n",
      "    to  \n",
      "  ['...']\n",
      "28/28 - 2s - loss: 0.4195 - accuracy: 0.8894\n"
     ]
    },
    {
     "data": {
      "image/png": "[encoded data removed]",
      "text/plain": [
       "<Figure size 432x288 with 1 Axes>"
      ]
     },
     "metadata": {
      "needs_background": "light"
     },
     "output_type": "display_data"
    }
   ],
   "source": [
    "plt.plot(history.history['accuracy'], label='accuracy')\n",
    "plt.plot(history.history['val_accuracy'], label = 'val_accuracy')\n",
    "plt.xlabel('Epoch')\n",
    "plt.ylabel('Accuracy')\n",
    "plt.ylim([0.5, 1])\n",
    "plt.legend(loc='lower right')\n",
    "\n",
    "test_loss, test_acc = model.evaluate(test_generator, verbose=2)"
   ]
  },
  {
   "cell_type": "code",
   "execution_count": null,
   "metadata": {},
   "outputs": [],
   "source": []
  }
 ],
 "metadata": {
  "kernelspec": {
   "display_name": "Python 3",
   "language": "python",
   "name": "python3"
  },
  "language_info": {
   "codemirror_mode": {
    "name": "ipython",
    "version": 3
   },
   "file_extension": ".py",
   "mimetype": "text/x-python",
   "name": "python",
   "nbconvert_exporter": "python",
   "pygments_lexer": "ipython3",
   "version": "3.7.4"
  }
 },
 "nbformat": 4,
 "nbformat_minor": 4
}
